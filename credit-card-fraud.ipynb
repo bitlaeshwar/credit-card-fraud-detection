{
 "cells": [
  {
   "cell_type": "code",
   "execution_count": 1,
   "id": "db942af8",
   "metadata": {
    "_cell_guid": "b1076dfc-b9ad-4769-8c92-a6c4dae69d19",
    "_uuid": "8f2839f25d086af736a60e9eeb907d3b93b6e0e5",
    "execution": {
     "iopub.execute_input": "2024-01-20T15:28:02.819281Z",
     "iopub.status.busy": "2024-01-20T15:28:02.818840Z",
     "iopub.status.idle": "2024-01-20T15:28:03.320951Z",
     "shell.execute_reply": "2024-01-20T15:28:03.319011Z"
    },
    "papermill": {
     "duration": 0.515706,
     "end_time": "2024-01-20T15:28:03.324075",
     "exception": false,
     "start_time": "2024-01-20T15:28:02.808369",
     "status": "completed"
    },
    "tags": []
   },
   "outputs": [],
   "source": [
    "# This Python 3 environment comes with many helpful analytics libraries installed\n",
    "# It is defined by the kaggle/python Docker image: https://github.com/kaggle/docker-python\n",
    "# For example, here's several helpful packages to load\n",
    "\n",
    "import numpy as np # linear algebra\n",
    "import pandas as pd # data processing, CSV file I/O\n",
    "import matplotlib.pyplot as plt\n"
   ]
  },
  {
   "cell_type": "code",
   "execution_count": 2,
   "id": "37113991",
   "metadata": {
    "execution": {
     "iopub.execute_input": "2024-01-20T15:28:03.344770Z",
     "iopub.status.busy": "2024-01-20T15:28:03.342697Z",
     "iopub.status.idle": "2024-01-20T15:28:05.397734Z",
     "shell.execute_reply": "2024-01-20T15:28:05.395543Z"
    },
    "papermill": {
     "duration": 2.06897,
     "end_time": "2024-01-20T15:28:05.401477",
     "exception": false,
     "start_time": "2024-01-20T15:28:03.332507",
     "status": "completed"
    },
    "tags": []
   },
   "outputs": [],
   "source": [
    "df=pd.read_csv('/kaggle/input/credit-card-fraud/card_transdata.csv')"
   ]
  },
  {
   "cell_type": "code",
   "execution_count": 3,
   "id": "e2e7d1dc",
   "metadata": {
    "execution": {
     "iopub.execute_input": "2024-01-20T15:28:05.422787Z",
     "iopub.status.busy": "2024-01-20T15:28:05.422071Z",
     "iopub.status.idle": "2024-01-20T15:28:05.457866Z",
     "shell.execute_reply": "2024-01-20T15:28:05.456080Z"
    },
    "papermill": {
     "duration": 0.04975,
     "end_time": "2024-01-20T15:28:05.461318",
     "exception": false,
     "start_time": "2024-01-20T15:28:05.411568",
     "status": "completed"
    },
    "tags": []
   },
   "outputs": [
    {
     "data": {
      "text/html": [
       "<div>\n",
       "<style scoped>\n",
       "    .dataframe tbody tr th:only-of-type {\n",
       "        vertical-align: middle;\n",
       "    }\n",
       "\n",
       "    .dataframe tbody tr th {\n",
       "        vertical-align: top;\n",
       "    }\n",
       "\n",
       "    .dataframe thead th {\n",
       "        text-align: right;\n",
       "    }\n",
       "</style>\n",
       "<table border=\"1\" class=\"dataframe\">\n",
       "  <thead>\n",
       "    <tr style=\"text-align: right;\">\n",
       "      <th></th>\n",
       "      <th>distance_from_home</th>\n",
       "      <th>distance_from_last_transaction</th>\n",
       "      <th>ratio_to_median_purchase_price</th>\n",
       "      <th>repeat_retailer</th>\n",
       "      <th>used_chip</th>\n",
       "      <th>used_pin_number</th>\n",
       "      <th>online_order</th>\n",
       "      <th>fraud</th>\n",
       "    </tr>\n",
       "  </thead>\n",
       "  <tbody>\n",
       "    <tr>\n",
       "      <th>0</th>\n",
       "      <td>57.877857</td>\n",
       "      <td>0.311140</td>\n",
       "      <td>1.945940</td>\n",
       "      <td>1.0</td>\n",
       "      <td>1.0</td>\n",
       "      <td>0.0</td>\n",
       "      <td>0.0</td>\n",
       "      <td>0.0</td>\n",
       "    </tr>\n",
       "    <tr>\n",
       "      <th>1</th>\n",
       "      <td>10.829943</td>\n",
       "      <td>0.175592</td>\n",
       "      <td>1.294219</td>\n",
       "      <td>1.0</td>\n",
       "      <td>0.0</td>\n",
       "      <td>0.0</td>\n",
       "      <td>0.0</td>\n",
       "      <td>0.0</td>\n",
       "    </tr>\n",
       "    <tr>\n",
       "      <th>2</th>\n",
       "      <td>5.091079</td>\n",
       "      <td>0.805153</td>\n",
       "      <td>0.427715</td>\n",
       "      <td>1.0</td>\n",
       "      <td>0.0</td>\n",
       "      <td>0.0</td>\n",
       "      <td>1.0</td>\n",
       "      <td>0.0</td>\n",
       "    </tr>\n",
       "    <tr>\n",
       "      <th>3</th>\n",
       "      <td>2.247564</td>\n",
       "      <td>5.600044</td>\n",
       "      <td>0.362663</td>\n",
       "      <td>1.0</td>\n",
       "      <td>1.0</td>\n",
       "      <td>0.0</td>\n",
       "      <td>1.0</td>\n",
       "      <td>0.0</td>\n",
       "    </tr>\n",
       "    <tr>\n",
       "      <th>4</th>\n",
       "      <td>44.190936</td>\n",
       "      <td>0.566486</td>\n",
       "      <td>2.222767</td>\n",
       "      <td>1.0</td>\n",
       "      <td>1.0</td>\n",
       "      <td>0.0</td>\n",
       "      <td>1.0</td>\n",
       "      <td>0.0</td>\n",
       "    </tr>\n",
       "  </tbody>\n",
       "</table>\n",
       "</div>"
      ],
      "text/plain": [
       "   distance_from_home  distance_from_last_transaction  \\\n",
       "0           57.877857                        0.311140   \n",
       "1           10.829943                        0.175592   \n",
       "2            5.091079                        0.805153   \n",
       "3            2.247564                        5.600044   \n",
       "4           44.190936                        0.566486   \n",
       "\n",
       "   ratio_to_median_purchase_price  repeat_retailer  used_chip  \\\n",
       "0                        1.945940              1.0        1.0   \n",
       "1                        1.294219              1.0        0.0   \n",
       "2                        0.427715              1.0        0.0   \n",
       "3                        0.362663              1.0        1.0   \n",
       "4                        2.222767              1.0        1.0   \n",
       "\n",
       "   used_pin_number  online_order  fraud  \n",
       "0              0.0           0.0    0.0  \n",
       "1              0.0           0.0    0.0  \n",
       "2              0.0           1.0    0.0  \n",
       "3              0.0           1.0    0.0  \n",
       "4              0.0           1.0    0.0  "
      ]
     },
     "execution_count": 3,
     "metadata": {},
     "output_type": "execute_result"
    }
   ],
   "source": [
    "df.head()"
   ]
  },
  {
   "cell_type": "code",
   "execution_count": 4,
   "id": "f96b786b",
   "metadata": {
    "execution": {
     "iopub.execute_input": "2024-01-20T15:28:05.482714Z",
     "iopub.status.busy": "2024-01-20T15:28:05.482290Z",
     "iopub.status.idle": "2024-01-20T15:28:05.491390Z",
     "shell.execute_reply": "2024-01-20T15:28:05.489927Z"
    },
    "papermill": {
     "duration": 0.02378,
     "end_time": "2024-01-20T15:28:05.494690",
     "exception": false,
     "start_time": "2024-01-20T15:28:05.470910",
     "status": "completed"
    },
    "tags": []
   },
   "outputs": [
    {
     "data": {
      "text/plain": [
       "Index(['distance_from_home', 'distance_from_last_transaction',\n",
       "       'ratio_to_median_purchase_price', 'repeat_retailer', 'used_chip',\n",
       "       'used_pin_number', 'online_order', 'fraud'],\n",
       "      dtype='object')"
      ]
     },
     "execution_count": 4,
     "metadata": {},
     "output_type": "execute_result"
    }
   ],
   "source": [
    "df.columns"
   ]
  },
  {
   "cell_type": "code",
   "execution_count": 5,
   "id": "0fa84565",
   "metadata": {
    "execution": {
     "iopub.execute_input": "2024-01-20T15:28:05.515417Z",
     "iopub.status.busy": "2024-01-20T15:28:05.514979Z",
     "iopub.status.idle": "2024-01-20T15:28:07.108621Z",
     "shell.execute_reply": "2024-01-20T15:28:07.107600Z"
    },
    "papermill": {
     "duration": 1.607758,
     "end_time": "2024-01-20T15:28:07.111411",
     "exception": false,
     "start_time": "2024-01-20T15:28:05.503653",
     "status": "completed"
    },
    "tags": []
   },
   "outputs": [],
   "source": [
    "from sklearn.model_selection import train_test_split\n",
    "from sklearn.metrics import accuracy_score, classification_report, confusion_matrix"
   ]
  },
  {
   "cell_type": "code",
   "execution_count": 6,
   "id": "66ef3a4c",
   "metadata": {
    "execution": {
     "iopub.execute_input": "2024-01-20T15:28:07.133367Z",
     "iopub.status.busy": "2024-01-20T15:28:07.132146Z",
     "iopub.status.idle": "2024-01-20T15:28:07.885518Z",
     "shell.execute_reply": "2024-01-20T15:28:07.884242Z"
    },
    "papermill": {
     "duration": 0.767878,
     "end_time": "2024-01-20T15:28:07.889075",
     "exception": false,
     "start_time": "2024-01-20T15:28:07.121197",
     "status": "completed"
    },
    "tags": []
   },
   "outputs": [],
   "source": [
    "# Remove duplicates\n",
    "df = df.drop_duplicates()\n",
    "\n",
    "# Handle null values\n",
    "df = df.dropna()\n"
   ]
  },
  {
   "cell_type": "code",
   "execution_count": 7,
   "id": "d47afc02",
   "metadata": {
    "execution": {
     "iopub.execute_input": "2024-01-20T15:28:07.911843Z",
     "iopub.status.busy": "2024-01-20T15:28:07.911445Z",
     "iopub.status.idle": "2024-01-20T15:28:07.930509Z",
     "shell.execute_reply": "2024-01-20T15:28:07.929070Z"
    },
    "papermill": {
     "duration": 0.033952,
     "end_time": "2024-01-20T15:28:07.933492",
     "exception": false,
     "start_time": "2024-01-20T15:28:07.899540",
     "status": "completed"
    },
    "tags": []
   },
   "outputs": [
    {
     "data": {
      "text/plain": [
       "fraud\n",
       "0.0    912597\n",
       "1.0     87403\n",
       "Name: count, dtype: int64"
      ]
     },
     "execution_count": 7,
     "metadata": {},
     "output_type": "execute_result"
    }
   ],
   "source": [
    "df['fraud'].value_counts()"
   ]
  },
  {
   "cell_type": "code",
   "execution_count": 8,
   "id": "766fef84",
   "metadata": {
    "execution": {
     "iopub.execute_input": "2024-01-20T15:28:07.954986Z",
     "iopub.status.busy": "2024-01-20T15:28:07.954257Z",
     "iopub.status.idle": "2024-01-20T15:28:07.987215Z",
     "shell.execute_reply": "2024-01-20T15:28:07.985496Z"
    },
    "papermill": {
     "duration": 0.047662,
     "end_time": "2024-01-20T15:28:07.990551",
     "exception": false,
     "start_time": "2024-01-20T15:28:07.942889",
     "status": "completed"
    },
    "tags": []
   },
   "outputs": [],
   "source": [
    "x=df.drop('fraud',axis=1)\n",
    "y=df['fraud']"
   ]
  },
  {
   "cell_type": "code",
   "execution_count": 9,
   "id": "4a527c45",
   "metadata": {
    "execution": {
     "iopub.execute_input": "2024-01-20T15:28:08.012915Z",
     "iopub.status.busy": "2024-01-20T15:28:08.012510Z",
     "iopub.status.idle": "2024-01-20T15:28:08.291638Z",
     "shell.execute_reply": "2024-01-20T15:28:08.289525Z"
    },
    "papermill": {
     "duration": 0.29526,
     "end_time": "2024-01-20T15:28:08.296032",
     "exception": false,
     "start_time": "2024-01-20T15:28:08.000772",
     "status": "completed"
    },
    "tags": []
   },
   "outputs": [],
   "source": [
    "# Split the dataset into training and testing sets\n",
    "x_train,x_test,y_train,y_test=train_test_split(x,y,test_size=0.30,random_state=1)"
   ]
  },
  {
   "cell_type": "code",
   "execution_count": 10,
   "id": "35ad99ce",
   "metadata": {
    "execution": {
     "iopub.execute_input": "2024-01-20T15:28:08.322560Z",
     "iopub.status.busy": "2024-01-20T15:28:08.321710Z",
     "iopub.status.idle": "2024-01-20T15:28:17.270940Z",
     "shell.execute_reply": "2024-01-20T15:28:17.269443Z"
    },
    "papermill": {
     "duration": 8.964211,
     "end_time": "2024-01-20T15:28:17.274017",
     "exception": false,
     "start_time": "2024-01-20T15:28:08.309806",
     "status": "completed"
    },
    "tags": []
   },
   "outputs": [
    {
     "data": {
      "text/html": [
       "<style>#sk-container-id-1 {color: black;background-color: white;}#sk-container-id-1 pre{padding: 0;}#sk-container-id-1 div.sk-toggleable {background-color: white;}#sk-container-id-1 label.sk-toggleable__label {cursor: pointer;display: block;width: 100%;margin-bottom: 0;padding: 0.3em;box-sizing: border-box;text-align: center;}#sk-container-id-1 label.sk-toggleable__label-arrow:before {content: \"▸\";float: left;margin-right: 0.25em;color: #696969;}#sk-container-id-1 label.sk-toggleable__label-arrow:hover:before {color: black;}#sk-container-id-1 div.sk-estimator:hover label.sk-toggleable__label-arrow:before {color: black;}#sk-container-id-1 div.sk-toggleable__content {max-height: 0;max-width: 0;overflow: hidden;text-align: left;background-color: #f0f8ff;}#sk-container-id-1 div.sk-toggleable__content pre {margin: 0.2em;color: black;border-radius: 0.25em;background-color: #f0f8ff;}#sk-container-id-1 input.sk-toggleable__control:checked~div.sk-toggleable__content {max-height: 200px;max-width: 100%;overflow: auto;}#sk-container-id-1 input.sk-toggleable__control:checked~label.sk-toggleable__label-arrow:before {content: \"▾\";}#sk-container-id-1 div.sk-estimator input.sk-toggleable__control:checked~label.sk-toggleable__label {background-color: #d4ebff;}#sk-container-id-1 div.sk-label input.sk-toggleable__control:checked~label.sk-toggleable__label {background-color: #d4ebff;}#sk-container-id-1 input.sk-hidden--visually {border: 0;clip: rect(1px 1px 1px 1px);clip: rect(1px, 1px, 1px, 1px);height: 1px;margin: -1px;overflow: hidden;padding: 0;position: absolute;width: 1px;}#sk-container-id-1 div.sk-estimator {font-family: monospace;background-color: #f0f8ff;border: 1px dotted black;border-radius: 0.25em;box-sizing: border-box;margin-bottom: 0.5em;}#sk-container-id-1 div.sk-estimator:hover {background-color: #d4ebff;}#sk-container-id-1 div.sk-parallel-item::after {content: \"\";width: 100%;border-bottom: 1px solid gray;flex-grow: 1;}#sk-container-id-1 div.sk-label:hover label.sk-toggleable__label {background-color: #d4ebff;}#sk-container-id-1 div.sk-serial::before {content: \"\";position: absolute;border-left: 1px solid gray;box-sizing: border-box;top: 0;bottom: 0;left: 50%;z-index: 0;}#sk-container-id-1 div.sk-serial {display: flex;flex-direction: column;align-items: center;background-color: white;padding-right: 0.2em;padding-left: 0.2em;position: relative;}#sk-container-id-1 div.sk-item {position: relative;z-index: 1;}#sk-container-id-1 div.sk-parallel {display: flex;align-items: stretch;justify-content: center;background-color: white;position: relative;}#sk-container-id-1 div.sk-item::before, #sk-container-id-1 div.sk-parallel-item::before {content: \"\";position: absolute;border-left: 1px solid gray;box-sizing: border-box;top: 0;bottom: 0;left: 50%;z-index: -1;}#sk-container-id-1 div.sk-parallel-item {display: flex;flex-direction: column;z-index: 1;position: relative;background-color: white;}#sk-container-id-1 div.sk-parallel-item:first-child::after {align-self: flex-end;width: 50%;}#sk-container-id-1 div.sk-parallel-item:last-child::after {align-self: flex-start;width: 50%;}#sk-container-id-1 div.sk-parallel-item:only-child::after {width: 0;}#sk-container-id-1 div.sk-dashed-wrapped {border: 1px dashed gray;margin: 0 0.4em 0.5em 0.4em;box-sizing: border-box;padding-bottom: 0.4em;background-color: white;}#sk-container-id-1 div.sk-label label {font-family: monospace;font-weight: bold;display: inline-block;line-height: 1.2em;}#sk-container-id-1 div.sk-label-container {text-align: center;}#sk-container-id-1 div.sk-container {/* jupyter's `normalize.less` sets `[hidden] { display: none; }` but bootstrap.min.css set `[hidden] { display: none !important; }` so we also need the `!important` here to be able to override the default hidden behavior on the sphinx rendered scikit-learn.org. See: https://github.com/scikit-learn/scikit-learn/issues/21755 */display: inline-block !important;position: relative;}#sk-container-id-1 div.sk-text-repr-fallback {display: none;}</style><div id=\"sk-container-id-1\" class=\"sk-top-container\"><div class=\"sk-text-repr-fallback\"><pre>LogisticRegression(solver=&#x27;liblinear&#x27;)</pre><b>In a Jupyter environment, please rerun this cell to show the HTML representation or trust the notebook. <br />On GitHub, the HTML representation is unable to render, please try loading this page with nbviewer.org.</b></div><div class=\"sk-container\" hidden><div class=\"sk-item\"><div class=\"sk-estimator sk-toggleable\"><input class=\"sk-toggleable__control sk-hidden--visually\" id=\"sk-estimator-id-1\" type=\"checkbox\" checked><label for=\"sk-estimator-id-1\" class=\"sk-toggleable__label sk-toggleable__label-arrow\">LogisticRegression</label><div class=\"sk-toggleable__content\"><pre>LogisticRegression(solver=&#x27;liblinear&#x27;)</pre></div></div></div></div></div>"
      ],
      "text/plain": [
       "LogisticRegression(solver='liblinear')"
      ]
     },
     "execution_count": 10,
     "metadata": {},
     "output_type": "execute_result"
    }
   ],
   "source": [
    "from sklearn.linear_model import LogisticRegression\n",
    "classifier=LogisticRegression(solver='liblinear')\n",
    "classifier.fit(x_train,y_train)"
   ]
  },
  {
   "cell_type": "code",
   "execution_count": 11,
   "id": "40a46b2f",
   "metadata": {
    "execution": {
     "iopub.execute_input": "2024-01-20T15:28:17.295494Z",
     "iopub.status.busy": "2024-01-20T15:28:17.294995Z",
     "iopub.status.idle": "2024-01-20T15:28:17.314005Z",
     "shell.execute_reply": "2024-01-20T15:28:17.312682Z"
    },
    "papermill": {
     "duration": 0.034958,
     "end_time": "2024-01-20T15:28:17.318775",
     "exception": false,
     "start_time": "2024-01-20T15:28:17.283817",
     "status": "completed"
    },
    "tags": []
   },
   "outputs": [],
   "source": [
    "y_predict=classifier.predict(x_test)"
   ]
  },
  {
   "cell_type": "code",
   "execution_count": 12,
   "id": "71d651e0",
   "metadata": {
    "execution": {
     "iopub.execute_input": "2024-01-20T15:28:17.364902Z",
     "iopub.status.busy": "2024-01-20T15:28:17.364059Z",
     "iopub.status.idle": "2024-01-20T15:28:17.394617Z",
     "shell.execute_reply": "2024-01-20T15:28:17.392877Z"
    },
    "papermill": {
     "duration": 0.059538,
     "end_time": "2024-01-20T15:28:17.400037",
     "exception": false,
     "start_time": "2024-01-20T15:28:17.340499",
     "status": "completed"
    },
    "tags": []
   },
   "outputs": [
    {
     "data": {
      "text/html": [
       "<div>\n",
       "<style scoped>\n",
       "    .dataframe tbody tr th:only-of-type {\n",
       "        vertical-align: middle;\n",
       "    }\n",
       "\n",
       "    .dataframe tbody tr th {\n",
       "        vertical-align: top;\n",
       "    }\n",
       "\n",
       "    .dataframe thead th {\n",
       "        text-align: right;\n",
       "    }\n",
       "</style>\n",
       "<table border=\"1\" class=\"dataframe\">\n",
       "  <thead>\n",
       "    <tr style=\"text-align: right;\">\n",
       "      <th></th>\n",
       "      <th>Actual</th>\n",
       "      <th>Predictions</th>\n",
       "    </tr>\n",
       "  </thead>\n",
       "  <tbody>\n",
       "    <tr>\n",
       "      <th>276826</th>\n",
       "      <td>0.0</td>\n",
       "      <td>0.0</td>\n",
       "    </tr>\n",
       "    <tr>\n",
       "      <th>849425</th>\n",
       "      <td>0.0</td>\n",
       "      <td>0.0</td>\n",
       "    </tr>\n",
       "    <tr>\n",
       "      <th>504499</th>\n",
       "      <td>0.0</td>\n",
       "      <td>0.0</td>\n",
       "    </tr>\n",
       "    <tr>\n",
       "      <th>601054</th>\n",
       "      <td>0.0</td>\n",
       "      <td>0.0</td>\n",
       "    </tr>\n",
       "    <tr>\n",
       "      <th>980221</th>\n",
       "      <td>1.0</td>\n",
       "      <td>0.0</td>\n",
       "    </tr>\n",
       "  </tbody>\n",
       "</table>\n",
       "</div>"
      ],
      "text/plain": [
       "        Actual  Predictions\n",
       "276826     0.0          0.0\n",
       "849425     0.0          0.0\n",
       "504499     0.0          0.0\n",
       "601054     0.0          0.0\n",
       "980221     1.0          0.0"
      ]
     },
     "execution_count": 12,
     "metadata": {},
     "output_type": "execute_result"
    }
   ],
   "source": [
    "Results=pd.DataFrame({'Actual':y_test,'Predictions':y_predict})\n",
    "Results.head(5)"
   ]
  },
  {
   "cell_type": "code",
   "execution_count": 13,
   "id": "7770d5db",
   "metadata": {
    "execution": {
     "iopub.execute_input": "2024-01-20T15:28:17.436746Z",
     "iopub.status.busy": "2024-01-20T15:28:17.436308Z",
     "iopub.status.idle": "2024-01-20T15:28:17.485817Z",
     "shell.execute_reply": "2024-01-20T15:28:17.483253Z"
    },
    "papermill": {
     "duration": 0.067391,
     "end_time": "2024-01-20T15:28:17.489804",
     "exception": false,
     "start_time": "2024-01-20T15:28:17.422413",
     "status": "completed"
    },
    "tags": []
   },
   "outputs": [
    {
     "name": "stdout",
     "output_type": "stream",
     "text": [
      "0.95857\n"
     ]
    }
   ],
   "source": [
    "print(accuracy_score(y_test,y_predict))"
   ]
  },
  {
   "cell_type": "code",
   "execution_count": 14,
   "id": "d802b204",
   "metadata": {
    "execution": {
     "iopub.execute_input": "2024-01-20T15:28:17.513018Z",
     "iopub.status.busy": "2024-01-20T15:28:17.512517Z",
     "iopub.status.idle": "2024-01-20T15:28:17.699384Z",
     "shell.execute_reply": "2024-01-20T15:28:17.697834Z"
    },
    "papermill": {
     "duration": 0.202284,
     "end_time": "2024-01-20T15:28:17.702684",
     "exception": false,
     "start_time": "2024-01-20T15:28:17.500400",
     "status": "completed"
    },
    "tags": []
   },
   "outputs": [
    {
     "name": "stdout",
     "output_type": "stream",
     "text": [
      "0.9587257142857143\n"
     ]
    }
   ],
   "source": [
    "y_train_predict=classifier.predict(x_train)\n",
    "print(accuracy_score(y_train,y_train_predict))"
   ]
  },
  {
   "cell_type": "code",
   "execution_count": 15,
   "id": "a1a2f03c",
   "metadata": {
    "execution": {
     "iopub.execute_input": "2024-01-20T15:28:17.724684Z",
     "iopub.status.busy": "2024-01-20T15:28:17.723930Z",
     "iopub.status.idle": "2024-01-20T15:28:18.102407Z",
     "shell.execute_reply": "2024-01-20T15:28:18.101069Z"
    },
    "papermill": {
     "duration": 0.392866,
     "end_time": "2024-01-20T15:28:18.105457",
     "exception": false,
     "start_time": "2024-01-20T15:28:17.712591",
     "status": "completed"
    },
    "tags": []
   },
   "outputs": [
    {
     "name": "stdout",
     "output_type": "stream",
     "text": [
      "[[271789   1874]\n",
      " [ 10555  15782]]\n"
     ]
    }
   ],
   "source": [
    "cm=confusion_matrix(y_test,y_predict)\n",
    "print(cm)"
   ]
  },
  {
   "cell_type": "code",
   "execution_count": 16,
   "id": "767a68e8",
   "metadata": {
    "execution": {
     "iopub.execute_input": "2024-01-20T15:28:18.132322Z",
     "iopub.status.busy": "2024-01-20T15:28:18.131349Z",
     "iopub.status.idle": "2024-01-20T15:28:18.983843Z",
     "shell.execute_reply": "2024-01-20T15:28:18.982479Z"
    },
    "papermill": {
     "duration": 0.87002,
     "end_time": "2024-01-20T15:28:18.987024",
     "exception": false,
     "start_time": "2024-01-20T15:28:18.117004",
     "status": "completed"
    },
    "tags": []
   },
   "outputs": [
    {
     "data": {
      "text/plain": [
       "Text(95.72222222222221, 0.5, 'True Label')"
      ]
     },
     "execution_count": 16,
     "metadata": {},
     "output_type": "execute_result"
    },
    {
     "data": {
      "image/png": "[encoded data removed]",
      "text/plain": [
       "<Figure size 1000x700 with 2 Axes>"
      ]
     },
     "metadata": {},
     "output_type": "display_data"
    }
   ],
   "source": [
    "import seaborn as sns\n",
    "plt.figure(figsize=(10,7))\n",
    "sns.heatmap(cm,annot=True)\n",
    "plt.title('Confusion Matrix - Test Data')\n",
    "plt.xlabel('Predicted Label')\n",
    "plt.ylabel('True Label')"
   ]
  },
  {
   "cell_type": "code",
   "execution_count": 17,
   "id": "5e027d31",
   "metadata": {
    "execution": {
     "iopub.execute_input": "2024-01-20T15:28:19.012959Z",
     "iopub.status.busy": "2024-01-20T15:28:19.012529Z",
     "iopub.status.idle": "2024-01-20T15:28:19.230000Z",
     "shell.execute_reply": "2024-01-20T15:28:19.227645Z"
    },
    "papermill": {
     "duration": 0.237837,
     "end_time": "2024-01-20T15:28:19.235924",
     "exception": false,
     "start_time": "2024-01-20T15:28:18.998087",
     "status": "completed"
    },
    "tags": []
   },
   "outputs": [
    {
     "data": {
      "image/png": "[encoded data removed]",
      "text/plain": [
       "<Figure size 640x480 with 1 Axes>"
      ]
     },
     "metadata": {},
     "output_type": "display_data"
    }
   ],
   "source": [
    "plt.clf()\n",
    "plt.imshow(cm,interpolation='nearest',cmap=plt.cm.Wistia)\n",
    "classNames = ['0','1']\n",
    "plt.title('Confusion Matrix-Test Data')\n",
    "plt.ylabel('True label')\n",
    "plt.xlabel('Predicted label')\n",
    "tick_marks = np.arange(2)\n",
    "plt.xticks(tick_marks,classNames,rotation=45)\n",
    "plt.yticks(tick_marks,classNames)\n",
    "s = [['TN','FP'],['FN','TP']]\n",
    "for i in range(2):\n",
    "    for j in range(2):\n",
    "        plt.text(j,i,str(s[i][j])+\"= \"+str(cm[i][j]))\n",
    "plt.show()"
   ]
  },
  {
   "cell_type": "code",
   "execution_count": 18,
   "id": "bd61d350",
   "metadata": {
    "execution": {
     "iopub.execute_input": "2024-01-20T15:28:19.261985Z",
     "iopub.status.busy": "2024-01-20T15:28:19.261227Z",
     "iopub.status.idle": "2024-01-20T15:28:20.019185Z",
     "shell.execute_reply": "2024-01-20T15:28:20.017660Z"
    },
    "papermill": {
     "duration": 0.775242,
     "end_time": "2024-01-20T15:28:20.022315",
     "exception": false,
     "start_time": "2024-01-20T15:28:19.247073",
     "status": "completed"
    },
    "tags": []
   },
   "outputs": [
    {
     "name": "stdout",
     "output_type": "stream",
     "text": [
      "              precision    recall  f1-score   support\n",
      "\n",
      "         0.0       0.96      0.99      0.98    273663\n",
      "         1.0       0.89      0.60      0.72     26337\n",
      "\n",
      "    accuracy                           0.96    300000\n",
      "   macro avg       0.93      0.80      0.85    300000\n",
      "weighted avg       0.96      0.96      0.95    300000\n",
      "\n"
     ]
    }
   ],
   "source": [
    "print(classification_report(y_test,y_predict))"
   ]
  },
  {
   "cell_type": "code",
   "execution_count": 19,
   "id": "a697d8b7",
   "metadata": {
    "execution": {
     "iopub.execute_input": "2024-01-20T15:28:20.049621Z",
     "iopub.status.busy": "2024-01-20T15:28:20.049152Z",
     "iopub.status.idle": "2024-01-20T15:28:20.055922Z",
     "shell.execute_reply": "2024-01-20T15:28:20.054539Z"
    },
    "papermill": {
     "duration": 0.023859,
     "end_time": "2024-01-20T15:28:20.058574",
     "exception": false,
     "start_time": "2024-01-20T15:28:20.034715",
     "status": "completed"
    },
    "tags": []
   },
   "outputs": [],
   "source": [
    "nt=cm[0][0]\n",
    "pf=cm[0][1]\n",
    "nf=cm[1][0]\n",
    "pt=cm[1][1]"
   ]
  },
  {
   "cell_type": "code",
   "execution_count": 20,
   "id": "ff69b760",
   "metadata": {
    "execution": {
     "iopub.execute_input": "2024-01-20T15:28:20.086219Z",
     "iopub.status.busy": "2024-01-20T15:28:20.085718Z",
     "iopub.status.idle": "2024-01-20T15:28:20.092405Z",
     "shell.execute_reply": "2024-01-20T15:28:20.091178Z"
    },
    "papermill": {
     "duration": 0.023596,
     "end_time": "2024-01-20T15:28:20.095437",
     "exception": false,
     "start_time": "2024-01-20T15:28:20.071841",
     "status": "completed"
    },
    "tags": []
   },
   "outputs": [
    {
     "name": "stdout",
     "output_type": "stream",
     "text": [
      "Recall= 0.599233018187341\n"
     ]
    }
   ],
   "source": [
    "recall=pt/(pt+nf)\n",
    "print('Recall=',recall)"
   ]
  },
  {
   "cell_type": "code",
   "execution_count": 21,
   "id": "093b2f81",
   "metadata": {
    "execution": {
     "iopub.execute_input": "2024-01-20T15:28:20.121587Z",
     "iopub.status.busy": "2024-01-20T15:28:20.121163Z",
     "iopub.status.idle": "2024-01-20T15:28:20.129328Z",
     "shell.execute_reply": "2024-01-20T15:28:20.127250Z"
    },
    "papermill": {
     "duration": 0.025444,
     "end_time": "2024-01-20T15:28:20.133021",
     "exception": false,
     "start_time": "2024-01-20T15:28:20.107577",
     "status": "completed"
    },
    "tags": []
   },
   "outputs": [
    {
     "name": "stdout",
     "output_type": "stream",
     "text": [
      "Precision= 0.8938604440416855\n"
     ]
    }
   ],
   "source": [
    "precision=pt/(pt+pf)\n",
    "print(\"Precision=\",precision)"
   ]
  },
  {
   "cell_type": "code",
   "execution_count": 22,
   "id": "80d437aa",
   "metadata": {
    "execution": {
     "iopub.execute_input": "2024-01-20T15:28:20.160614Z",
     "iopub.status.busy": "2024-01-20T15:28:20.160182Z",
     "iopub.status.idle": "2024-01-20T15:28:20.166592Z",
     "shell.execute_reply": "2024-01-20T15:28:20.165068Z"
    },
    "papermill": {
     "duration": 0.024147,
     "end_time": "2024-01-20T15:28:20.169892",
     "exception": false,
     "start_time": "2024-01-20T15:28:20.145745",
     "status": "completed"
    },
    "tags": []
   },
   "outputs": [
    {
     "name": "stdout",
     "output_type": "stream",
     "text": [
      "Specificity =  0.9931521616002164\n"
     ]
    }
   ],
   "source": [
    "specificity = nt /  (nt + pf)\n",
    "print(\"Specificity = \", specificity)"
   ]
  },
  {
   "cell_type": "code",
   "execution_count": 23,
   "id": "8193c512",
   "metadata": {
    "execution": {
     "iopub.execute_input": "2024-01-20T15:28:20.196603Z",
     "iopub.status.busy": "2024-01-20T15:28:20.196191Z",
     "iopub.status.idle": "2024-01-20T15:28:20.202914Z",
     "shell.execute_reply": "2024-01-20T15:28:20.201253Z"
    },
    "papermill": {
     "duration": 0.024301,
     "end_time": "2024-01-20T15:28:20.206158",
     "exception": false,
     "start_time": "2024-01-20T15:28:20.181857",
     "status": "completed"
    },
    "tags": []
   },
   "outputs": [
    {
     "name": "stdout",
     "output_type": "stream",
     "text": [
      "accuracy = 0.95857\n"
     ]
    }
   ],
   "source": [
    "accuracy = ( pt + nt ) / ( pt + nt + pf + nf)\n",
    "print(\"accuracy =\" , accuracy)"
   ]
  },
  {
   "cell_type": "code",
   "execution_count": null,
   "id": "c821d8bb",
   "metadata": {
    "papermill": {
     "duration": 0.012654,
     "end_time": "2024-01-20T15:28:20.230932",
     "exception": false,
     "start_time": "2024-01-20T15:28:20.218278",
     "status": "completed"
    },
    "tags": []
   },
   "outputs": [],
   "source": []
  }
 ],
 "metadata": {
  "kaggle": {
   "accelerator": "none",
   "dataSources": [
    {
     "datasetId": 2156255,
     "sourceId": 3594108,
     "sourceType": "datasetVersion"
    }
   ],
   "dockerImageVersionId": 30635,
   "isGpuEnabled": false,
   "isInternetEnabled": true,
   "language": "python",
   "sourceType": "notebook"
  },
  "kernelspec": {
   "display_name": "Python 3",
   "language": "python",
   "name": "python3"
  },
  "language_info": {
   "codemirror_mode": {
    "name": "ipython",
    "version": 3
   },
   "file_extension": ".py",
   "mimetype": "text/x-python",
   "name": "python",
   "nbconvert_exporter": "python",
   "pygments_lexer": "ipython3",
   "version": "3.10.12"
  },
  "papermill": {
   "default_parameters": {},
   "duration": 21.938537,
   "end_time": "2024-01-20T15:28:20.965025",
   "environment_variables": {},
   "exception": null,
   "input_path": "__notebook__.ipynb",
   "output_path": "__notebook__.ipynb",
   "parameters": {},
   "start_time": "2024-01-20T15:27:59.026488",
   "version": "2.4.0"
  }
 },
 "nbformat": 4,
 "nbformat_minor": 5
}
